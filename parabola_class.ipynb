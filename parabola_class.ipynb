{
  "nbformat": 4,
  "nbformat_minor": 0,
  "metadata": {
    "kernelspec": {
      "display_name": "Python 3",
      "language": "python",
      "name": "python3"
    },
    "language_info": {
      "codemirror_mode": {
        "name": "ipython",
        "version": 3
      },
      "file_extension": ".py",
      "mimetype": "text/x-python",
      "name": "python",
      "nbconvert_exporter": "python",
      "pygments_lexer": "ipython3",
      "version": "3.7.3"
    },
    "colab": {
      "name": "Alg_16_2021_22_par_task_(1) (1).ipynb",
      "provenance": [],
      "collapsed_sections": []
    }
  },
  "cells": [
    {
      "cell_type": "code",
      "metadata": {
        "id": "OkMZJCv7HRj8"
      },
      "source": [
        "import sympy\n",
        "import numpy as np\n",
        "from sympy import Eq, plot_implicit, Matrix, plot, symbols, latex, solve, nonlinsolve\n",
        "from sympy.core import sympify\n",
        "from sympy.geometry.point import Point, Point2D, Point3D\n",
        "from sympy.geometry.line import Line\n",
        "from sympy.core.symbol import _symbol\n",
        "from sympy import pi as Pi\n",
        "from sympy import cos as Cos\n",
        "from sympy import sin as Sin\n",
        "from sympy import tan as Tan\n",
        "from sympy import cot as Cot\n",
        "from sympy import S\n",
        "from sympy.geometry.entity import GeometryEntity, GeometrySet\n",
        "import matplotlib.pyplot as plt\n",
        "from IPython.display import Math, Latex"
      ],
      "execution_count": 13,
      "outputs": []
    },
    {
      "cell_type": "markdown",
      "metadata": {
        "id": "JBcJB2fWHRj_"
      },
      "source": [
        "## Парабола"
      ]
    },
    {
      "cell_type": "markdown",
      "metadata": {
        "id": "mmi1O2YqHRkC"
      },
      "source": [
        "**Атрибуты**: \n",
        "\n",
        "**парамет**р $p$\n",
        "\n",
        "**вершина** (vertex) в виде точки Point\n",
        "\n",
        "**фокус** (focus) в виде точки Point\n",
        "\n",
        "**угол angl**e по умолчанию 0 для параболы с осью, параллельной OX, \n",
        "а для параболы с осью, параллельной  OY angle = $\\pi/2$\n",
        "\n",
        "**ось симметрии** (axis_symmetry) в виде прямой Line\n",
        "\n",
        "**директриса** (directrix) в виде прямой Line\n",
        "\n",
        "**Методы**:\n",
        "\n",
        "**equation(self)** - уравнение параболы,\n",
        "\n",
        "**dir_equation(self)** - уравнение директрисы,\n",
        "\n",
        "**ax_sym_equation(self**) - уравнение оси симметрии,\n",
        "\n",
        "**rotate(self, angle)** - поворот на угол angle против часовой стрелки, метод не изменяет параболу, а возвращает параболу с теми же p и вершиной, но угол увеличен на angle по сравнению с исходной параболой. \n",
        "\n",
        "В конструкторе экземпляра класса  \n",
        "\n",
        "__new__(cls, p, vertex=None, angle=None)\n",
        "\n",
        "p - обязательный параметр, а вид параболы по умолчанию  - парабола с осью, параллельной оси OX,\n",
        "вершина по умолчанию в начале координат."
      ]
    },
    {
      "cell_type": "code",
      "metadata": {
        "id": "vINZ3fHOHRkE"
      },
      "source": [
        "class Parabola(GeometrySet):\n",
        "\n",
        "    def __new__(\n",
        "        cls, p, vertex=None, angle=None, **kwargs):\n",
        "        if vertex is None:\n",
        "          vertex = Point(0, 0)\n",
        "        if angle is None:\n",
        "          angle = 0\n",
        "        \n",
        "        return GeometryEntity.__new__(cls, p, vertex, angle, **kwargs)\n",
        "    \n",
        "    @property\n",
        "    def ambient_dimension(self):\n",
        "        return 2\n",
        "    \n",
        "    @property\n",
        "    def p(self):\n",
        "        return self.args[0]\n",
        "\n",
        "    @property\n",
        "    def vertex(self):\n",
        "        return self.args[1]\n",
        "    \n",
        "    @property\n",
        "    def angle(self):\n",
        "        return self.args[2]\n",
        "\n",
        "    @property\n",
        "    def axis_symmetry(self):\n",
        "        if self.angle == Pi / 2:\n",
        "          return Line(self.vertex, Point(self.vertex.x, self.vertex.y + 1))\n",
        "        if self.angle == 3 * Pi / 2:\n",
        "          return Line(self.vertex, Point(self.vertex.x, self.vertex.y - 1))\n",
        "        return Line(self.vertex, self.focus)\n",
        "\n",
        "    @property\n",
        "    def directrix(self):\n",
        "      if self.angle == Pi / 2:\n",
        "          p1 =  Point(self.vertex.x, self.vertex.y - self.p / 2)\n",
        "          p2 = Point(p1.x + 1, p1.y)\n",
        "          return Line(p1, p2)\n",
        "      if self.angle == 3 * Pi / 2:\n",
        "          p1 =  Point(self.vertex.x, self.vertex.y + self.p / 2)\n",
        "          p2 = Point(p1.x + 1, p1.y)\n",
        "          return Line(p1, p2)\n",
        "      from sympy.abc import x, y\n",
        "      dx = symbols('x')\n",
        "      dy = x * Tan(self.angle)\n",
        "      end_x = solve(Eq(dx ** 2 + dy ** 2, (self.p / 2) ** 2), dx)[1]\n",
        "      end_y = dy.subs({x: end_x})\n",
        "      end_x = abs(end_x)\n",
        "      end_y = abs(end_y)\n",
        "      if (self.angle >= 3 * Pi / 2 and self.angle <= 2 * Pi) or (self.angle > 0 and self.angle < Pi / 2):\n",
        "        end_x = - end_x\n",
        "      if self.angle >= 0 and self.angle <= Pi:\n",
        "        end_y = - end_y\n",
        "      p1 = Point(self.vertex.x + end_x, self.vertex.y + end_y)\n",
        "\n",
        "      end_x, end_y = end_y, end_x\n",
        "      end_x = abs(end_x)\n",
        "      end_y = abs(end_y)\n",
        "\n",
        "      if (self.angle >= 0 and self.angle <= Pi / 2) or (self.angle >= Pi and self.angle <= 3 * Pi / 2):\n",
        "        end_y = - end_y\n",
        "      p2 = Point(p1.x + end_x, p1.y + end_y)\n",
        "      return Line(p1, p2)\n",
        "    @property\n",
        "    def focus(self):\n",
        "      if self.angle == Pi / 2:\n",
        "        return Point(self.vertex.x, self.vertex.y + self.p / 2)\n",
        "      from sympy.abc import x, y\n",
        "      dx = symbols('x')\n",
        "      dy = x * Tan(self.angle)\n",
        "      end_x = solve(Eq(dx ** 2 + dy ** 2, (self.p / 2) ** 2), dx)[1]\n",
        "      end_y = dy.subs({x: end_x})\n",
        "      end_x = abs(end_x)\n",
        "      end_y = abs(end_y)\n",
        "      display('angle', self.angle)\n",
        "      if self.angle >= Pi / 2 and self.angle <= 3 * Pi / 2:\n",
        "        end_x = - end_x\n",
        "      if self.angle >= Pi and self.angle <= 2 * Pi:\n",
        "        end_y = - end_y\n",
        "      return Point(self.vertex.x + end_x, self.vertex.y + end_y)\n",
        "    \n",
        "\n",
        "    def rotate(self, angle):\n",
        "      p1 = self.p\n",
        "      angle1 = self.angle + angle\n",
        "      vertex1 = self.vertex\n",
        "      return Parabola(p1, vertex=vertex1, angle=angle1)\n",
        "\n",
        "    def ax_sym_equation(self):\n",
        "\n",
        "      from sympy.abc import x, y\n",
        "      if self.angle == Pi/2 or self.angle == 3 * Pi / 2:\n",
        "        t = self.vertex.y - self.p / 2\n",
        "        return Eq(  x, self.vertex.x      )\n",
        "\n",
        "\n",
        "\n",
        "      \n",
        "      p1 = self.axis_symmetry.p1\n",
        "      p2 = self.axis_symmetry.p2\n",
        "      if p1.x == p2.x:\n",
        "        left = 0\n",
        "      else:\n",
        "        left = (x - p1.x) / (p2.x - p1.x)\n",
        "      if p1.y == p2.y:\n",
        "        right = 0\n",
        "      else:\n",
        "        right = (y - p1.y) / (p2.y - p1.y)\n",
        "      \n",
        "      return Eq(left, right)\n",
        "\n",
        "\n",
        "    def dir_equation(self):\n",
        "      from sympy.abc import x, y\n",
        "\n",
        "\n",
        "      from sympy.abc import x, y\n",
        "      if self.angle == Pi/2:\n",
        "        #t = self.vertex.y - self.p / 2\n",
        "        return Eq(  y, self.vertex.y - self.p / 2     )\n",
        "\n",
        "\n",
        "      p1 = self.directrix.p1\n",
        "      p2 = self.directrix.p2\n",
        "      if p1.x == p2.x:\n",
        "        left = 0\n",
        "      else:\n",
        "        left = (x - p1.x) / (p2.x - p1.x)\n",
        "      if p1.y == p2.y:\n",
        "        right = 0\n",
        "      else:\n",
        "        right = (y - p1.y) / (p2.y - p1.y)\n",
        "      \n",
        "      return Eq(left, right)\n",
        "    \n",
        "    def equation(self):\n",
        "      from sympy.abc import x, y, alpha\n",
        "      alpha, x0, y0, t = symbols('alpha x0 y0 t')\n",
        "      sin_a = Sin(alpha)\n",
        "      cos_a = Cos(alpha)\n",
        "      A1 = Matrix([[cos_a, sin_a], \n",
        "            [-sin_a, cos_a]])\n",
        "      X = A1 * Matrix((x - x0, y - y0))\n",
        "      eq6 = Eq((X[1]) ** 2, 2 * t * (X[0]))\n",
        "\n",
        "      eq6_subs= eq6.subs({x0: self.vertex[0], y0: self.vertex[1], t: self.p, alpha: self.angle})\n",
        "      return eq6_subs"
      ],
      "execution_count": 27,
      "outputs": []
    },
    {
      "cell_type": "markdown",
      "metadata": {
        "id": "dojqIsnSHRkG"
      },
      "source": [
        "### Задание 2\n",
        "Построить экземпляр класса Parabola - параболу с $p = 3$, вершиной в (-5, 2), осью симметрии, образующей угол $\\pi/4$ с положительным направлением оси ОХ. Вывести на экран ее параметр p, вершину, угол, фокус, ось симметрии и директрису, а также уравнение параболы, оси симметрии и директрисы. \n",
        "\n",
        "Изобрзить на общем графике параболу, ее ось симметрии и директрису, парабола зеленая, ось симметрии красная, директриса черная. "
      ]
    },
    {
      "cell_type": "code",
      "source": [
        "myPar = Parabola(3, vertex=Point(-5, 2), angle=Pi/4)\n",
        "print('p:')\n",
        "display(myPar.p)\n",
        "display('vertex:')\n",
        "display(myPar.vertex)\n",
        "display('angle:')\n",
        "display(myPar.angle)\n",
        "display('focus:')\n",
        "display(myPar.focus)\n",
        "display('axis_symmetry:')\n",
        "display(myPar.axis_symmetry)\n",
        "display('dir')\n",
        "display(myPar.directrix)\n",
        "display('eq:')\n",
        "display(myPar.equation())\n",
        "display('axis_eq:')\n",
        "display(myPar.ax_sym_equation())\n",
        "display('dir_eq:')\n",
        "display(myPar.dir_equation())\n",
        "\n",
        "\n"
      ],
      "metadata": {
        "id": "PuhLktCH4ZmU",
        "colab": {
          "base_uri": "https://localhost:8080/",
          "height": 742
        },
        "outputId": "454ef7ac-eb86-4f70-9772-a7c76fa04168"
      },
      "execution_count": 29,
      "outputs": [
        {
          "output_type": "stream",
          "name": "stdout",
          "text": [
            "p:\n"
          ]
        },
        {
          "output_type": "display_data",
          "data": {
            "text/plain": [
              "3"
            ],
            "text/latex": "$\\displaystyle 3$"
          },
          "metadata": {}
        },
        {
          "output_type": "display_data",
          "data": {
            "text/plain": [
              "'vertex:'"
            ],
            "application/vnd.google.colaboratory.intrinsic+json": {
              "type": "string"
            }
          },
          "metadata": {}
        },
        {
          "output_type": "display_data",
          "data": {
            "text/plain": [
              "Point2D(-5, 2)"
            ],
            "text/latex": "$\\displaystyle Point2D\\left(-5, 2\\right)$"
          },
          "metadata": {}
        },
        {
          "output_type": "display_data",
          "data": {
            "text/plain": [
              "'angle:'"
            ],
            "application/vnd.google.colaboratory.intrinsic+json": {
              "type": "string"
            }
          },
          "metadata": {}
        },
        {
          "output_type": "display_data",
          "data": {
            "text/plain": [
              "pi/4"
            ],
            "text/latex": "$\\displaystyle \\frac{\\pi}{4}$"
          },
          "metadata": {}
        },
        {
          "output_type": "display_data",
          "data": {
            "text/plain": [
              "'focus:'"
            ],
            "application/vnd.google.colaboratory.intrinsic+json": {
              "type": "string"
            }
          },
          "metadata": {}
        },
        {
          "output_type": "display_data",
          "data": {
            "text/plain": [
              "'angle'"
            ],
            "application/vnd.google.colaboratory.intrinsic+json": {
              "type": "string"
            }
          },
          "metadata": {}
        },
        {
          "output_type": "display_data",
          "data": {
            "text/plain": [
              "pi/4"
            ],
            "text/latex": "$\\displaystyle \\frac{\\pi}{4}$"
          },
          "metadata": {}
        },
        {
          "output_type": "display_data",
          "data": {
            "text/plain": [
              "Point2D(-5 + 3*sqrt(2)/4, 3*sqrt(2)/4 + 2)"
            ],
            "text/latex": "$\\displaystyle Point2D\\left(-5 + \\frac{3 \\sqrt{2}}{4}, \\frac{3 \\sqrt{2}}{4} + 2\\right)$"
          },
          "metadata": {}
        },
        {
          "output_type": "display_data",
          "data": {
            "text/plain": [
              "'axis_symmetry:'"
            ],
            "application/vnd.google.colaboratory.intrinsic+json": {
              "type": "string"
            }
          },
          "metadata": {}
        },
        {
          "output_type": "display_data",
          "data": {
            "text/plain": [
              "'angle'"
            ],
            "application/vnd.google.colaboratory.intrinsic+json": {
              "type": "string"
            }
          },
          "metadata": {}
        },
        {
          "output_type": "display_data",
          "data": {
            "text/plain": [
              "pi/4"
            ],
            "text/latex": "$\\displaystyle \\frac{\\pi}{4}$"
          },
          "metadata": {}
        },
        {
          "output_type": "display_data",
          "data": {
            "text/plain": [
              "Line2D(Point2D(-5, 2), Point2D(-5 + 3*sqrt(2)/4, 3*sqrt(2)/4 + 2))"
            ],
            "image/svg+xml": "<svg xmlns=\"http://www.w3.org/2000/svg\"\n            xmlns:xlink=\"http://www.w3.org/1999/xlink\"\n            width=\"100.0\" height=\"100.0\" viewBox=\"-5.10606601717798 1.89393398282202 1.27279220613579 1.27279220613579\"\n            preserveAspectRatio=\"xMinYMin meet\">\n            <defs>\n                <marker id=\"markerCircle\" markerWidth=\"8\" markerHeight=\"8\"\n                    refx=\"5\" refy=\"5\" markerUnits=\"strokeWidth\">\n                    <circle cx=\"5\" cy=\"5\" r=\"1.5\" style=\"stroke: none; fill:#000000;\"/>\n                </marker>\n                <marker id=\"markerArrow\" markerWidth=\"13\" markerHeight=\"13\" refx=\"2\" refy=\"4\"\n                       orient=\"auto\" markerUnits=\"strokeWidth\">\n                    <path d=\"M2,2 L2,6 L6,4\" style=\"fill: #000000;\" />\n                </marker>\n                <marker id=\"markerReverseArrow\" markerWidth=\"13\" markerHeight=\"13\" refx=\"6\" refy=\"4\"\n                       orient=\"auto\" markerUnits=\"strokeWidth\">\n                    <path d=\"M6,2 L6,6 L2,4\" style=\"fill: #000000;\" />\n                </marker>\n            </defs><g transform=\"matrix(1,0,0,-1,0,5.06066017177982)\"><path fill-rule=\"evenodd\" fill=\"#66cc99\" stroke=\"#555555\" stroke-width=\"0.0254558441227157\" opacity=\"0.6\" d=\"M -5.00000000000000,2.00000000000000 L -3.93933982822018,3.06066017177982\" marker-start=\"url(#markerReverseArrow)\" marker-end=\"url(#markerArrow)\"/></g></svg>",
            "text/latex": "$\\displaystyle Line2D\\left(Point2D\\left(-5, 2\\right), Point2D\\left(-5 + \\frac{3 \\sqrt{2}}{4}, \\frac{3 \\sqrt{2}}{4} + 2\\right)\\right)$"
          },
          "metadata": {}
        },
        {
          "output_type": "display_data",
          "data": {
            "text/plain": [
              "'dir'"
            ],
            "application/vnd.google.colaboratory.intrinsic+json": {
              "type": "string"
            }
          },
          "metadata": {}
        },
        {
          "output_type": "display_data",
          "data": {
            "text/plain": [
              "Line2D(Point2D(-5 - 3*sqrt(2)/4, 2 - 3*sqrt(2)/4), Point2D(-5, 2 - 3*sqrt(2)/2))"
            ],
            "image/svg+xml": "<svg xmlns=\"http://www.w3.org/2000/svg\"\n            xmlns:xlink=\"http://www.w3.org/1999/xlink\"\n            width=\"100.0\" height=\"100.0\" viewBox=\"-6.16672618895780 -0.227386360737625 1.27279220613578 1.27279220613579\"\n            preserveAspectRatio=\"xMinYMin meet\">\n            <defs>\n                <marker id=\"markerCircle\" markerWidth=\"8\" markerHeight=\"8\"\n                    refx=\"5\" refy=\"5\" markerUnits=\"strokeWidth\">\n                    <circle cx=\"5\" cy=\"5\" r=\"1.5\" style=\"stroke: none; fill:#000000;\"/>\n                </marker>\n                <marker id=\"markerArrow\" markerWidth=\"13\" markerHeight=\"13\" refx=\"2\" refy=\"4\"\n                       orient=\"auto\" markerUnits=\"strokeWidth\">\n                    <path d=\"M2,2 L2,6 L6,4\" style=\"fill: #000000;\" />\n                </marker>\n                <marker id=\"markerReverseArrow\" markerWidth=\"13\" markerHeight=\"13\" refx=\"6\" refy=\"4\"\n                       orient=\"auto\" markerUnits=\"strokeWidth\">\n                    <path d=\"M6,2 L6,6 L2,4\" style=\"fill: #000000;\" />\n                </marker>\n            </defs><g transform=\"matrix(1,0,0,-1,0,0.818019484660536)\"><path fill-rule=\"evenodd\" fill=\"#66cc99\" stroke=\"#555555\" stroke-width=\"0.0254558441227157\" opacity=\"0.6\" d=\"M -6.06066017177982,0.939339828220179 L -5.00000000000000,-0.121320343559643\" marker-start=\"url(#markerReverseArrow)\" marker-end=\"url(#markerArrow)\"/></g></svg>",
            "text/latex": "$\\displaystyle Line2D\\left(Point2D\\left(-5 - \\frac{3 \\sqrt{2}}{4}, 2 - \\frac{3 \\sqrt{2}}{4}\\right), Point2D\\left(-5, 2 - \\frac{3 \\sqrt{2}}{2}\\right)\\right)$"
          },
          "metadata": {}
        },
        {
          "output_type": "display_data",
          "data": {
            "text/plain": [
              "'eq:'"
            ],
            "application/vnd.google.colaboratory.intrinsic+json": {
              "type": "string"
            }
          },
          "metadata": {}
        },
        {
          "output_type": "display_data",
          "data": {
            "text/plain": [
              "Eq((-sqrt(2)*(x + 5)/2 + sqrt(2)*(y - 2)/2)**2, 3*sqrt(2)*(x + 5) + 3*sqrt(2)*(y - 2))"
            ],
            "text/latex": "$\\displaystyle \\left(- \\frac{\\sqrt{2} \\left(x + 5\\right)}{2} + \\frac{\\sqrt{2} \\left(y - 2\\right)}{2}\\right)^{2} = 3 \\sqrt{2} \\left(x + 5\\right) + 3 \\sqrt{2} \\left(y - 2\\right)$"
          },
          "metadata": {}
        },
        {
          "output_type": "display_data",
          "data": {
            "text/plain": [
              "'axis_eq:'"
            ],
            "application/vnd.google.colaboratory.intrinsic+json": {
              "type": "string"
            }
          },
          "metadata": {}
        },
        {
          "output_type": "display_data",
          "data": {
            "text/plain": [
              "'angle'"
            ],
            "application/vnd.google.colaboratory.intrinsic+json": {
              "type": "string"
            }
          },
          "metadata": {}
        },
        {
          "output_type": "display_data",
          "data": {
            "text/plain": [
              "pi/4"
            ],
            "text/latex": "$\\displaystyle \\frac{\\pi}{4}$"
          },
          "metadata": {}
        },
        {
          "output_type": "display_data",
          "data": {
            "text/plain": [
              "'angle'"
            ],
            "application/vnd.google.colaboratory.intrinsic+json": {
              "type": "string"
            }
          },
          "metadata": {}
        },
        {
          "output_type": "display_data",
          "data": {
            "text/plain": [
              "pi/4"
            ],
            "text/latex": "$\\displaystyle \\frac{\\pi}{4}$"
          },
          "metadata": {}
        },
        {
          "output_type": "display_data",
          "data": {
            "text/plain": [
              "Eq(2*sqrt(2)*(x + 5)/3, 2*sqrt(2)*(y - 2)/3)"
            ],
            "text/latex": "$\\displaystyle \\frac{2 \\sqrt{2} \\left(x + 5\\right)}{3} = \\frac{2 \\sqrt{2} \\left(y - 2\\right)}{3}$"
          },
          "metadata": {}
        },
        {
          "output_type": "display_data",
          "data": {
            "text/plain": [
              "'dir_eq:'"
            ],
            "application/vnd.google.colaboratory.intrinsic+json": {
              "type": "string"
            }
          },
          "metadata": {}
        },
        {
          "output_type": "display_data",
          "data": {
            "text/plain": [
              "Eq(2*sqrt(2)*(x + 3*sqrt(2)/4 + 5)/3, -2*sqrt(2)*(y - 2 + 3*sqrt(2)/4)/3)"
            ],
            "text/latex": "$\\displaystyle \\frac{2 \\sqrt{2} \\left(x + \\frac{3 \\sqrt{2}}{4} + 5\\right)}{3} = - \\frac{2 \\sqrt{2} \\left(y - 2 + \\frac{3 \\sqrt{2}}{4}\\right)}{3}$"
          },
          "metadata": {}
        }
      ]
    },
    {
      "cell_type": "code",
      "source": [
        "x, y = symbols('x y')\n",
        "eq = myPar.equation()\n",
        "s1 = solve(eq, y)[0]\n",
        "s2 = solve(eq, y)[1]\n",
        "\n",
        "#ax = plt.gca()\n",
        "\n",
        "xl = (-10,10)\n",
        "yl = (-2.5,10)\n",
        "\n",
        "t1 = plot(s1,  xlim=xl, ylim=yl, axis_center=(0,0), autoscale=False, line_color='green', show=False)\n",
        "t2 = plot(s2,  xlim=xl, ylim=yl,autoscale=False,line_color='green', show=False)\n",
        "t1.append(t2[0])\n",
        "\n",
        "\n",
        "eq = myPar.ax_sym_equation()\n",
        "s1 = solve(eq, y)[0]\n",
        "t2 = plot(s1,   xlim=xl, ylim=yl,autoscale=False,line_color='red', show=False)\n",
        "t1.append(t2[0])\n",
        "\n",
        "\n",
        "eq = myPar.dir_equation()\n",
        "s1 = solve(eq, y)[0]\n",
        "t2 = plot(s1,  xlim=xl, ylim=yl,autoscale=False,line_color='black', show=False)\n",
        "t1.append(t2[0])\n",
        "\n",
        "\n",
        "\n",
        "\n",
        "\n",
        "t1.show()"
      ],
      "metadata": {
        "colab": {
          "base_uri": "https://localhost:8080/",
          "height": 394
        },
        "id": "SfMg29vTHiqo",
        "outputId": "131e11b5-b164-44a4-ad8f-51fa16216085"
      },
      "execution_count": 30,
      "outputs": [
        {
          "output_type": "display_data",
          "data": {
            "text/plain": [
              "'angle'"
            ],
            "application/vnd.google.colaboratory.intrinsic+json": {
              "type": "string"
            }
          },
          "metadata": {}
        },
        {
          "output_type": "display_data",
          "data": {
            "text/plain": [
              "pi/4"
            ],
            "text/latex": "$\\displaystyle \\frac{\\pi}{4}$"
          },
          "metadata": {}
        },
        {
          "output_type": "display_data",
          "data": {
            "text/plain": [
              "'angle'"
            ],
            "application/vnd.google.colaboratory.intrinsic+json": {
              "type": "string"
            }
          },
          "metadata": {}
        },
        {
          "output_type": "display_data",
          "data": {
            "text/plain": [
              "pi/4"
            ],
            "text/latex": "$\\displaystyle \\frac{\\pi}{4}$"
          },
          "metadata": {}
        },
        {
          "output_type": "display_data",
          "data": {
            "text/plain": [
              "<Figure size 432x288 with 1 Axes>"
            ],
            "image/png": "[encoded data removed]"
          },
          "metadata": {
            "needs_background": "light"
          }
        }
      ]
    },
    {
      "cell_type": "markdown",
      "metadata": {
        "id": "WlXyhdWhHRkH"
      },
      "source": [
        "### Индивидуальное задание\n",
        "Построить экземпляр класса Parabola - параболу $x^{2} = 2py$ с заданным $p$, построить другую параболу путем поворота исходной параболы  на угол $\\alpha$ радиан. Вывести на экран вершину, угол, фокус, ось симметрии и директрису обеих парабол. \n",
        "\n",
        "Использовать уравнения повернутой параболы, ее оси симметрии и директрисы для построения графиков в одной координатной плоскости. Парабола фиолетовая, ось симметрии зеленая, директриса черная, название графика Парабола, подписи осей $x$ и $y$."
      ]
    },
    {
      "cell_type": "markdown",
      "source": [
        "![image.png](data:image/png;base64,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)"
      ],
      "metadata": {
        "id": "s5grtAg1P9xK"
      }
    },
    {
      "cell_type": "code",
      "source": [
        "myPar2 = Parabola(5, vertex=Point(5,0), angle=Pi/2)\n",
        "myPar2_turned = myPar2.rotate(Pi/6)\n",
        "\n",
        "\n",
        "\n",
        "print('TURNED PARABOLA')\n",
        "myPar = myPar2_turned\n",
        "print('p:')\n",
        "display(myPar.p)\n",
        "display('vertex:')\n",
        "display(myPar.vertex)\n",
        "display('angle:')\n",
        "display(myPar.angle)\n",
        "display('focus:')\n",
        "display(myPar.focus)\n",
        "display('axis_symmetry:')\n",
        "display(myPar.axis_symmetry)\n",
        "display('dir')\n",
        "display(myPar.directrix)\n",
        "display('eq:')\n",
        "display(myPar.equation())\n",
        "display('axis_eq:')\n",
        "display(myPar.ax_sym_equation())\n",
        "display('dir_eq:')\n",
        "display(myPar.dir_equation())\n",
        "\n",
        "print('===============================================')\n",
        "print(' PARABOLA')\n",
        "myPar = myPar2\n",
        "print('p:')\n",
        "display(myPar.p)\n",
        "display('vertex:')\n",
        "display(myPar.vertex)\n",
        "display('angle:')\n",
        "display(myPar.angle)\n",
        "display('focus:')\n",
        "display(myPar.focus)\n",
        "display('axis_symmetry:')\n",
        "display(myPar.axis_symmetry)\n",
        "display('dir')\n",
        "display(myPar.directrix)\n",
        "display('eq:')\n",
        "display(myPar.equation())\n",
        "display('axis_eq:')\n",
        "display(myPar.ax_sym_equation())\n",
        "display('dir_eq:')\n",
        "display(myPar.dir_equation())"
      ],
      "metadata": {
        "id": "3KPl0ZgN4bh8",
        "colab": {
          "base_uri": "https://localhost:8080/",
          "height": 1000
        },
        "outputId": "75b4b04a-a7ea-45f5-c70c-8042f74bab37"
      },
      "execution_count": 31,
      "outputs": [
        {
          "output_type": "stream",
          "name": "stdout",
          "text": [
            "TURNED PARABOLA\n",
            "p:\n"
          ]
        },
        {
          "output_type": "display_data",
          "data": {
            "text/plain": [
              "5"
            ],
            "text/latex": "$\\displaystyle 5$"
          },
          "metadata": {}
        },
        {
          "output_type": "display_data",
          "data": {
            "text/plain": [
              "'vertex:'"
            ],
            "application/vnd.google.colaboratory.intrinsic+json": {
              "type": "string"
            }
          },
          "metadata": {}
        },
        {
          "output_type": "display_data",
          "data": {
            "text/plain": [
              "Point2D(5, 0)"
            ],
            "text/latex": "$\\displaystyle Point2D\\left(5, 0\\right)$"
          },
          "metadata": {}
        },
        {
          "output_type": "display_data",
          "data": {
            "text/plain": [
              "'angle:'"
            ],
            "application/vnd.google.colaboratory.intrinsic+json": {
              "type": "string"
            }
          },
          "metadata": {}
        },
        {
          "output_type": "display_data",
          "data": {
            "text/plain": [
              "2*pi/3"
            ],
            "text/latex": "$\\displaystyle \\frac{2 \\pi}{3}$"
          },
          "metadata": {}
        },
        {
          "output_type": "display_data",
          "data": {
            "text/plain": [
              "'focus:'"
            ],
            "application/vnd.google.colaboratory.intrinsic+json": {
              "type": "string"
            }
          },
          "metadata": {}
        },
        {
          "output_type": "display_data",
          "data": {
            "text/plain": [
              "'angle'"
            ],
            "application/vnd.google.colaboratory.intrinsic+json": {
              "type": "string"
            }
          },
          "metadata": {}
        },
        {
          "output_type": "display_data",
          "data": {
            "text/plain": [
              "2*pi/3"
            ],
            "text/latex": "$\\displaystyle \\frac{2 \\pi}{3}$"
          },
          "metadata": {}
        },
        {
          "output_type": "display_data",
          "data": {
            "text/plain": [
              "Point2D(15/4, 5*sqrt(3)/4)"
            ],
            "text/latex": "$\\displaystyle Point2D\\left(\\frac{15}{4}, \\frac{5 \\sqrt{3}}{4}\\right)$"
          },
          "metadata": {}
        },
        {
          "output_type": "display_data",
          "data": {
            "text/plain": [
              "'axis_symmetry:'"
            ],
            "application/vnd.google.colaboratory.intrinsic+json": {
              "type": "string"
            }
          },
          "metadata": {}
        },
        {
          "output_type": "display_data",
          "data": {
            "text/plain": [
              "'angle'"
            ],
            "application/vnd.google.colaboratory.intrinsic+json": {
              "type": "string"
            }
          },
          "metadata": {}
        },
        {
          "output_type": "display_data",
          "data": {
            "text/plain": [
              "2*pi/3"
            ],
            "text/latex": "$\\displaystyle \\frac{2 \\pi}{3}$"
          },
          "metadata": {}
        },
        {
          "output_type": "display_data",
          "data": {
            "text/plain": [
              "Line2D(Point2D(5, 0), Point2D(15/4, 5*sqrt(3)/4))"
            ],
            "image/svg+xml": "<svg xmlns=\"http://www.w3.org/2000/svg\"\n            xmlns:xlink=\"http://www.w3.org/1999/xlink\"\n            width=\"100.0\" height=\"100.0\" viewBox=\"3.53349364905389 -0.216506350946110 1.68301270189222 2.59807621135332\"\n            preserveAspectRatio=\"xMinYMin meet\">\n            <defs>\n                <marker id=\"markerCircle\" markerWidth=\"8\" markerHeight=\"8\"\n                    refx=\"5\" refy=\"5\" markerUnits=\"strokeWidth\">\n                    <circle cx=\"5\" cy=\"5\" r=\"1.5\" style=\"stroke: none; fill:#000000;\"/>\n                </marker>\n                <marker id=\"markerArrow\" markerWidth=\"13\" markerHeight=\"13\" refx=\"2\" refy=\"4\"\n                       orient=\"auto\" markerUnits=\"strokeWidth\">\n                    <path d=\"M2,2 L2,6 L6,4\" style=\"fill: #000000;\" />\n                </marker>\n                <marker id=\"markerReverseArrow\" markerWidth=\"13\" markerHeight=\"13\" refx=\"6\" refy=\"4\"\n                       orient=\"auto\" markerUnits=\"strokeWidth\">\n                    <path d=\"M6,2 L6,6 L2,4\" style=\"fill: #000000;\" />\n                </marker>\n            </defs><g transform=\"matrix(1,0,0,-1,0,2.16506350946110)\"><path fill-rule=\"evenodd\" fill=\"#66cc99\" stroke=\"#555555\" stroke-width=\"0.0519615242270663\" opacity=\"0.6\" d=\"M 5.00000000000000,0 L 3.75000000000000,2.16506350946110\" marker-start=\"url(#markerReverseArrow)\" marker-end=\"url(#markerArrow)\"/></g></svg>",
            "text/latex": "$\\displaystyle Line2D\\left(Point2D\\left(5, 0\\right), Point2D\\left(\\frac{15}{4}, \\frac{5 \\sqrt{3}}{4}\\right)\\right)$"
          },
          "metadata": {}
        },
        {
          "output_type": "display_data",
          "data": {
            "text/plain": [
              "'dir'"
            ],
            "application/vnd.google.colaboratory.intrinsic+json": {
              "type": "string"
            }
          },
          "metadata": {}
        },
        {
          "output_type": "display_data",
          "data": {
            "text/plain": [
              "Line2D(Point2D(25/4, -5*sqrt(3)/4), Point2D(5*sqrt(3)/4 + 25/4, 5/4 - 5*sqrt(3)/4))"
            ],
            "image/svg+xml": "<svg xmlns=\"http://www.w3.org/2000/svg\"\n            xmlns:xlink=\"http://www.w3.org/1999/xlink\"\n            width=\"100.0\" height=\"100.0\" viewBox=\"6.03349364905389 -2.38156986040721 2.59807621135332 1.68301270189222\"\n            preserveAspectRatio=\"xMinYMin meet\">\n            <defs>\n                <marker id=\"markerCircle\" markerWidth=\"8\" markerHeight=\"8\"\n                    refx=\"5\" refy=\"5\" markerUnits=\"strokeWidth\">\n                    <circle cx=\"5\" cy=\"5\" r=\"1.5\" style=\"stroke: none; fill:#000000;\"/>\n                </marker>\n                <marker id=\"markerArrow\" markerWidth=\"13\" markerHeight=\"13\" refx=\"2\" refy=\"4\"\n                       orient=\"auto\" markerUnits=\"strokeWidth\">\n                    <path d=\"M2,2 L2,6 L6,4\" style=\"fill: #000000;\" />\n                </marker>\n                <marker id=\"markerReverseArrow\" markerWidth=\"13\" markerHeight=\"13\" refx=\"6\" refy=\"4\"\n                       orient=\"auto\" markerUnits=\"strokeWidth\">\n                    <path d=\"M6,2 L6,6 L2,4\" style=\"fill: #000000;\" />\n                </marker>\n            </defs><g transform=\"matrix(1,0,0,-1,0,-3.08012701892219)\"><path fill-rule=\"evenodd\" fill=\"#66cc99\" stroke=\"#555555\" stroke-width=\"0.0519615242270663\" opacity=\"0.6\" d=\"M 6.25000000000000,-2.16506350946110 L 8.41506350946110,-0.915063509461097\" marker-start=\"url(#markerReverseArrow)\" marker-end=\"url(#markerArrow)\"/></g></svg>",
            "text/latex": "$\\displaystyle Line2D\\left(Point2D\\left(\\frac{25}{4}, - \\frac{5 \\sqrt{3}}{4}\\right), Point2D\\left(\\frac{5 \\sqrt{3}}{4} + \\frac{25}{4}, \\frac{5}{4} - \\frac{5 \\sqrt{3}}{4}\\right)\\right)$"
          },
          "metadata": {}
        },
        {
          "output_type": "display_data",
          "data": {
            "text/plain": [
              "'eq:'"
            ],
            "application/vnd.google.colaboratory.intrinsic+json": {
              "type": "string"
            }
          },
          "metadata": {}
        },
        {
          "output_type": "display_data",
          "data": {
            "text/plain": [
              "Eq((-y/2 - sqrt(3)*(x - 5)/2)**2, -5*x + 5*sqrt(3)*y + 25)"
            ],
            "text/latex": "$\\displaystyle \\left(- \\frac{y}{2} - \\frac{\\sqrt{3} \\left(x - 5\\right)}{2}\\right)^{2} = - 5 x + 5 \\sqrt{3} y + 25$"
          },
          "metadata": {}
        },
        {
          "output_type": "display_data",
          "data": {
            "text/plain": [
              "'axis_eq:'"
            ],
            "application/vnd.google.colaboratory.intrinsic+json": {
              "type": "string"
            }
          },
          "metadata": {}
        },
        {
          "output_type": "display_data",
          "data": {
            "text/plain": [
              "'angle'"
            ],
            "application/vnd.google.colaboratory.intrinsic+json": {
              "type": "string"
            }
          },
          "metadata": {}
        },
        {
          "output_type": "display_data",
          "data": {
            "text/plain": [
              "2*pi/3"
            ],
            "text/latex": "$\\displaystyle \\frac{2 \\pi}{3}$"
          },
          "metadata": {}
        },
        {
          "output_type": "display_data",
          "data": {
            "text/plain": [
              "'angle'"
            ],
            "application/vnd.google.colaboratory.intrinsic+json": {
              "type": "string"
            }
          },
          "metadata": {}
        },
        {
          "output_type": "display_data",
          "data": {
            "text/plain": [
              "2*pi/3"
            ],
            "text/latex": "$\\displaystyle \\frac{2 \\pi}{3}$"
          },
          "metadata": {}
        },
        {
          "output_type": "display_data",
          "data": {
            "text/plain": [
              "Eq(4 - 4*x/5, 4*sqrt(3)*y/15)"
            ],
            "text/latex": "$\\displaystyle 4 - \\frac{4 x}{5} = \\frac{4 \\sqrt{3} y}{15}$"
          },
          "metadata": {}
        },
        {
          "output_type": "display_data",
          "data": {
            "text/plain": [
              "'dir_eq:'"
            ],
            "application/vnd.google.colaboratory.intrinsic+json": {
              "type": "string"
            }
          },
          "metadata": {}
        },
        {
          "output_type": "display_data",
          "data": {
            "text/plain": [
              "Eq(4*sqrt(3)*(x - 25/4)/15, 4*y/5 + sqrt(3))"
            ],
            "text/latex": "$\\displaystyle \\frac{4 \\sqrt{3} \\left(x - \\frac{25}{4}\\right)}{15} = \\frac{4 y}{5} + \\sqrt{3}$"
          },
          "metadata": {}
        },
        {
          "output_type": "stream",
          "name": "stdout",
          "text": [
            "===============================================\n",
            " PARABOLA\n",
            "p:\n"
          ]
        },
        {
          "output_type": "display_data",
          "data": {
            "text/plain": [
              "5"
            ],
            "text/latex": "$\\displaystyle 5$"
          },
          "metadata": {}
        },
        {
          "output_type": "display_data",
          "data": {
            "text/plain": [
              "'vertex:'"
            ],
            "application/vnd.google.colaboratory.intrinsic+json": {
              "type": "string"
            }
          },
          "metadata": {}
        },
        {
          "output_type": "display_data",
          "data": {
            "text/plain": [
              "Point2D(5, 0)"
            ],
            "text/latex": "$\\displaystyle Point2D\\left(5, 0\\right)$"
          },
          "metadata": {}
        },
        {
          "output_type": "display_data",
          "data": {
            "text/plain": [
              "'angle:'"
            ],
            "application/vnd.google.colaboratory.intrinsic+json": {
              "type": "string"
            }
          },
          "metadata": {}
        },
        {
          "output_type": "display_data",
          "data": {
            "text/plain": [
              "pi/2"
            ],
            "text/latex": "$\\displaystyle \\frac{\\pi}{2}$"
          },
          "metadata": {}
        },
        {
          "output_type": "display_data",
          "data": {
            "text/plain": [
              "'focus:'"
            ],
            "application/vnd.google.colaboratory.intrinsic+json": {
              "type": "string"
            }
          },
          "metadata": {}
        },
        {
          "output_type": "display_data",
          "data": {
            "text/plain": [
              "Point2D(5, 5/2)"
            ],
            "text/latex": "$\\displaystyle Point2D\\left(5, \\frac{5}{2}\\right)$"
          },
          "metadata": {}
        },
        {
          "output_type": "display_data",
          "data": {
            "text/plain": [
              "'axis_symmetry:'"
            ],
            "application/vnd.google.colaboratory.intrinsic+json": {
              "type": "string"
            }
          },
          "metadata": {}
        },
        {
          "output_type": "display_data",
          "data": {
            "text/plain": [
              "Line2D(Point2D(5, 0), Point2D(5, 1))"
            ],
            "image/svg+xml": "<svg xmlns=\"http://www.w3.org/2000/svg\"\n            xmlns:xlink=\"http://www.w3.org/1999/xlink\"\n            width=\"100.0\" height=\"100.0\" viewBox=\"4.90000000000000 -0.100000000000000 0.199999999999999 1.20000000000000\"\n            preserveAspectRatio=\"xMinYMin meet\">\n            <defs>\n                <marker id=\"markerCircle\" markerWidth=\"8\" markerHeight=\"8\"\n                    refx=\"5\" refy=\"5\" markerUnits=\"strokeWidth\">\n                    <circle cx=\"5\" cy=\"5\" r=\"1.5\" style=\"stroke: none; fill:#000000;\"/>\n                </marker>\n                <marker id=\"markerArrow\" markerWidth=\"13\" markerHeight=\"13\" refx=\"2\" refy=\"4\"\n                       orient=\"auto\" markerUnits=\"strokeWidth\">\n                    <path d=\"M2,2 L2,6 L6,4\" style=\"fill: #000000;\" />\n                </marker>\n                <marker id=\"markerReverseArrow\" markerWidth=\"13\" markerHeight=\"13\" refx=\"6\" refy=\"4\"\n                       orient=\"auto\" markerUnits=\"strokeWidth\">\n                    <path d=\"M6,2 L6,6 L2,4\" style=\"fill: #000000;\" />\n                </marker>\n            </defs><g transform=\"matrix(1,0,0,-1,0,1.00000000000000)\"><path fill-rule=\"evenodd\" fill=\"#66cc99\" stroke=\"#555555\" stroke-width=\"0.0240000000000000\" opacity=\"0.6\" d=\"M 5.00000000000000,0 L 5.00000000000000,1.00000000000000\" marker-start=\"url(#markerReverseArrow)\" marker-end=\"url(#markerArrow)\"/></g></svg>",
            "text/latex": "$\\displaystyle Line2D\\left(Point2D\\left(5, 0\\right), Point2D\\left(5, 1\\right)\\right)$"
          },
          "metadata": {}
        },
        {
          "output_type": "display_data",
          "data": {
            "text/plain": [
              "'dir'"
            ],
            "application/vnd.google.colaboratory.intrinsic+json": {
              "type": "string"
            }
          },
          "metadata": {}
        },
        {
          "output_type": "display_data",
          "data": {
            "text/plain": [
              "Line2D(Point2D(5, -5/2), Point2D(6, -5/2))"
            ],
            "image/svg+xml": "<svg xmlns=\"http://www.w3.org/2000/svg\"\n            xmlns:xlink=\"http://www.w3.org/1999/xlink\"\n            width=\"100.0\" height=\"100.0\" viewBox=\"4.90000000000000 -2.60000000000000 1.20000000000000 0.200000000000000\"\n            preserveAspectRatio=\"xMinYMin meet\">\n            <defs>\n                <marker id=\"markerCircle\" markerWidth=\"8\" markerHeight=\"8\"\n                    refx=\"5\" refy=\"5\" markerUnits=\"strokeWidth\">\n                    <circle cx=\"5\" cy=\"5\" r=\"1.5\" style=\"stroke: none; fill:#000000;\"/>\n                </marker>\n                <marker id=\"markerArrow\" markerWidth=\"13\" markerHeight=\"13\" refx=\"2\" refy=\"4\"\n                       orient=\"auto\" markerUnits=\"strokeWidth\">\n                    <path d=\"M2,2 L2,6 L6,4\" style=\"fill: #000000;\" />\n                </marker>\n                <marker id=\"markerReverseArrow\" markerWidth=\"13\" markerHeight=\"13\" refx=\"6\" refy=\"4\"\n                       orient=\"auto\" markerUnits=\"strokeWidth\">\n                    <path d=\"M6,2 L6,6 L2,4\" style=\"fill: #000000;\" />\n                </marker>\n            </defs><g transform=\"matrix(1,0,0,-1,0,-5.00000000000000)\"><path fill-rule=\"evenodd\" fill=\"#66cc99\" stroke=\"#555555\" stroke-width=\"0.0240000000000000\" opacity=\"0.6\" d=\"M 5.00000000000000,-2.50000000000000 L 6.00000000000000,-2.50000000000000\" marker-start=\"url(#markerReverseArrow)\" marker-end=\"url(#markerArrow)\"/></g></svg>",
            "text/latex": "$\\displaystyle Line2D\\left(Point2D\\left(5, - \\frac{5}{2}\\right), Point2D\\left(6, - \\frac{5}{2}\\right)\\right)$"
          },
          "metadata": {}
        },
        {
          "output_type": "display_data",
          "data": {
            "text/plain": [
              "'eq:'"
            ],
            "application/vnd.google.colaboratory.intrinsic+json": {
              "type": "string"
            }
          },
          "metadata": {}
        },
        {
          "output_type": "display_data",
          "data": {
            "text/plain": [
              "Eq((5 - x)**2, 10*y)"
            ],
            "text/latex": "$\\displaystyle \\left(5 - x\\right)^{2} = 10 y$"
          },
          "metadata": {}
        },
        {
          "output_type": "display_data",
          "data": {
            "text/plain": [
              "'axis_eq:'"
            ],
            "application/vnd.google.colaboratory.intrinsic+json": {
              "type": "string"
            }
          },
          "metadata": {}
        },
        {
          "output_type": "display_data",
          "data": {
            "text/plain": [
              "Eq(x, 5)"
            ],
            "text/latex": "$\\displaystyle x = 5$"
          },
          "metadata": {}
        },
        {
          "output_type": "display_data",
          "data": {
            "text/plain": [
              "'dir_eq:'"
            ],
            "application/vnd.google.colaboratory.intrinsic+json": {
              "type": "string"
            }
          },
          "metadata": {}
        },
        {
          "output_type": "display_data",
          "data": {
            "text/plain": [
              "Eq(y, -5/2)"
            ],
            "text/latex": "$\\displaystyle y = - \\frac{5}{2}$"
          },
          "metadata": {}
        }
      ]
    },
    {
      "cell_type": "code",
      "source": [
        "x, y = symbols('x y')\n",
        "myPar = myPar2_turned\n",
        "eq = myPar.equation()\n",
        "s1 = solve(eq, y)[0]\n",
        "s2 = solve(eq, y)[1]\n",
        "\n",
        "#ax = plt.gca()\n",
        "\n",
        "xl = (-20,20)\n",
        "yl = (-5,20)\n",
        "\n",
        "t1 = plot(s1, title='Парабола', ylabel='y' ,xlim=xl, ylim=yl, axis_center=(0,0), autoscale=False, line_color='purple', show=False)\n",
        "t2 = plot(s2,  xlim=xl, ylim=yl,autoscale=False,line_color='purple', show=False)\n",
        "t1.append(t2[0])\n",
        "\n",
        "\n",
        "eq = myPar.ax_sym_equation()\n",
        "s1 = solve(eq, y)[0]\n",
        "t2 = plot(s1,   xlim=xl, ylim=yl,autoscale=False,line_color='green', show=False)\n",
        "t1.append(t2[0])\n",
        "\n",
        "\n",
        "eq = myPar.dir_equation()\n",
        "s1 = solve(eq, y)[0]\n",
        "t2 = plot(s1,  xlim=xl, ylim=yl,autoscale=False,line_color='black', show=False)\n",
        "t1.append(t2[0])\n",
        "\n",
        "\n",
        "t1.show()"
      ],
      "metadata": {
        "colab": {
          "base_uri": "https://localhost:8080/",
          "height": 402
        },
        "id": "BbHf7u84c58I",
        "outputId": "97ebb12a-b577-4f49-ddf4-c5f5d7069a46"
      },
      "execution_count": 32,
      "outputs": [
        {
          "output_type": "display_data",
          "data": {
            "text/plain": [
              "'angle'"
            ],
            "application/vnd.google.colaboratory.intrinsic+json": {
              "type": "string"
            }
          },
          "metadata": {}
        },
        {
          "output_type": "display_data",
          "data": {
            "text/plain": [
              "2*pi/3"
            ],
            "text/latex": "$\\displaystyle \\frac{2 \\pi}{3}$"
          },
          "metadata": {}
        },
        {
          "output_type": "display_data",
          "data": {
            "text/plain": [
              "'angle'"
            ],
            "application/vnd.google.colaboratory.intrinsic+json": {
              "type": "string"
            }
          },
          "metadata": {}
        },
        {
          "output_type": "display_data",
          "data": {
            "text/plain": [
              "2*pi/3"
            ],
            "text/latex": "$\\displaystyle \\frac{2 \\pi}{3}$"
          },
          "metadata": {}
        },
        {
          "output_type": "display_data",
          "data": {
            "text/plain": [
              "<Figure size 432x288 with 1 Axes>"
            ],
            "image/png": "[encoded data removed]"
          },
          "metadata": {
            "needs_background": "light"
          }
        }
      ]
    }
  ]
}
